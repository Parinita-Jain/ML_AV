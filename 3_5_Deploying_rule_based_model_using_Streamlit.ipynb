{
  "nbformat": 4,
  "nbformat_minor": 0,
  "metadata": {
    "kernelspec": {
      "display_name": "Python 3",
      "language": "python",
      "name": "python3"
    },
    "language_info": {
      "codemirror_mode": {
        "name": "ipython",
        "version": 3
      },
      "file_extension": ".py",
      "mimetype": "text/x-python",
      "name": "python",
      "nbconvert_exporter": "python",
      "pygments_lexer": "ipython3",
      "version": "3.6.4"
    },
    "colab": {
      "provenance": []
    },
    "accelerator": "GPU"
  },
  "cells": [
    {
      "cell_type": "markdown",
      "metadata": {
        "id": "jPtUSXpZfntZ"
      },
      "source": [
        "## Deploying the rule based model to automate loan prediction\n",
        "\n",
        "1. Building the Frontend of the application\n",
        "2. Loading the data\n",
        "3. Building the model to automate Loan Eligibility\n",
        "4. Deploying the application"
      ]
    },
    {
      "cell_type": "markdown",
      "metadata": {
        "id": "UyQbUqDr7AUK"
      },
      "source": [
        "## 1. Building the Frontend of the application\n",
        "\n",
        "1.1 Install Required Libraries<br>\n",
        "1.2 Creating the Frontend of the app using Streamlit\n",
        "\n",
        "### 1.1 Install Required Libraries"
      ]
    },
    {
      "cell_type": "code",
      "metadata": {
        "id": "8o2Nv-0GVhsv"
      },
      "source": [
        "# installing pyngrok\n",
        "!pip install -q pyngrok"
      ],
      "execution_count": 21,
      "outputs": []
    },
    {
      "cell_type": "code",
      "metadata": {
        "id": "96rKP77EJSvR"
      },
      "source": [
        "# installing streamlit which converts data scripts into web applications i.e. it is used for defining components of applications\n",
        "!pip install -q streamlit==0.76.0 # "
      ],
      "execution_count": 22,
      "outputs": []
    },
    {
      "cell_type": "code",
      "metadata": {
        "colab": {
          "base_uri": "https://localhost:8080/"
        },
        "id": "6FaA15vWZfyu",
        "outputId": "a9ec8878-6d32-4c0b-9604-ddac6578c7ea"
      },
      "source": [
        "!streamlit version"
      ],
      "execution_count": 23,
      "outputs": [
        {
          "output_type": "stream",
          "name": "stdout",
          "text": [
            "2023-02-23 09:48:04.967 INFO    numexpr.utils: NumExpr defaulting to 2 threads.\n",
            "Streamlit, version 0.76.0\n"
          ]
        }
      ]
    },
    {
      "cell_type": "markdown",
      "metadata": {
        "id": "rlKW2k6x7YS-"
      },
      "source": [
        "### 1.2 Creating the frontend of the app using streamlit"
      ]
    },
    {
      "cell_type": "code",
      "metadata": {
        "id": "ZC4c6EMgRYX1",
        "colab": {
          "base_uri": "https://localhost:8080/"
        },
        "outputId": "6aff3dbc-0360-45a4-8751-bc64dfdd5efb"
      },
      "source": [
        "# creating the script\n",
        "%%writefile app.py \n",
        "#%%writefile app.py --returns app.py file at the end\n",
        "\n",
        "# importing streamlit\n",
        "import streamlit as st\n",
        "  \n",
        "# this is the main function in which we define our app  \n",
        "def main():\n",
        "    # header of the page\n",
        "    st.markdown(\"Check your Loan Eligibility\") \n",
        "\n",
        "    # 2. Loading the data\n",
        "      \n",
        "    # following lines create boxes in which user can enter data required to make prediction \n",
        "    Gender = st.selectbox('Gender',(\"Male\",\"Female\",\"Other\"))\n",
        "    Married = st.selectbox('Marital Status',(\"Unmarried\",\"Married\",\"Other\")) \n",
        "    ApplicantIncome = st.number_input(\"Monthly Income in Rupees\") \n",
        "    LoanAmount = st.number_input(\"Loan Amount in Rupees\")\n",
        "    result =\"\"\n",
        "      \n",
        "    # when 'Check' is clicked, make the prediction and store it \n",
        "    if st.button(\"Check\"): \n",
        "        result = prediction(Gender, Married, ApplicantIncome, LoanAmount) \n",
        "        st.success('Your loan is {}'.format(result))\n",
        "\n",
        "# defining the function which will make the prediction using the data which the user inputs \n",
        "def prediction(Gender, Married, ApplicantIncome, LoanAmount):\n",
        "\n",
        "    # 3. Building the model to automate Loan Eligibility\n",
        "    if (ApplicantIncome >= 100):\n",
        "        loan_status = 'Approved'\n",
        "    elif (LoanAmount < 100):\n",
        "        loan_status = 'Approved'\n",
        "    else:\n",
        "        loan_status = 'Rejected'\n",
        "    return loan_status\n",
        "     \n",
        "if __name__=='__main__': \n",
        "    main()"
      ],
      "execution_count": 24,
      "outputs": [
        {
          "output_type": "stream",
          "name": "stdout",
          "text": [
            "Overwriting app.py\n"
          ]
        }
      ]
    },
    {
      "cell_type": "markdown",
      "metadata": {
        "id": "dWM7e9709d72"
      },
      "source": [
        "## 4. Deploying the application"
      ]
    },
    {
      "cell_type": "code",
      "metadata": {
        "id": "fLsQUC3qgtZl"
      },
      "source": [
        "# running the app\n",
        "!streamlit run app.py &>/dev/null&"
      ],
      "execution_count": 25,
      "outputs": []
    },
    {
      "cell_type": "code",
      "metadata": {
        "id": "G93y3SeHgf6H",
        "colab": {
          "base_uri": "https://localhost:8080/"
        },
        "outputId": "b9c99e58-6628-42c4-b635-6b8f2383adba"
      },
      "source": [
        "# making the locally-hosted web application to be publicly accessible\n",
        "from pyngrok import ngrok\n",
        "\n",
        "public_url = ngrok.connect('8501')\n",
        "public_url"
      ],
      "execution_count": 28,
      "outputs": [
        {
          "output_type": "execute_result",
          "data": {
            "text/plain": [
              "<NgrokTunnel: \"http://8682-34-91-238-15.ngrok.io\" -> \"http://localhost:8501\">"
            ]
          },
          "metadata": {},
          "execution_count": 28
        }
      ]
    },
    {
      "cell_type": "code",
      "metadata": {
        "id": "kTg-2Nar2Wsi",
        "colab": {
          "base_uri": "https://localhost:8080/"
        },
        "outputId": "7969ff8b-10a2-4fc1-f7f5-ec0cf686748c"
      },
      "source": [
        "!ngrok authtoken 2K7aTx0WItDp7U5QSCpLbik2yNg_2bY8dRMQigHdcBJN5NR9p"
      ],
      "execution_count": 29,
      "outputs": [
        {
          "output_type": "stream",
          "name": "stdout",
          "text": [
            "Authtoken saved to configuration file: /root/.ngrok2/ngrok.yml\n"
          ]
        }
      ]
    },
    {
      "cell_type": "code",
      "source": [
        "ngrok.kill()"
      ],
      "metadata": {
        "id": "aA68dETmoqph"
      },
      "execution_count": 27,
      "outputs": []
    },
    {
      "cell_type": "code",
      "source": [],
      "metadata": {
        "id": "VFS-NAVdoq9q"
      },
      "execution_count": 29,
      "outputs": []
    }
  ]
}